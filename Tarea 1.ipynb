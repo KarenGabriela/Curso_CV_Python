{
 "cells": [
  {
   "cell_type": "markdown",
   "metadata": {},
   "source": [
    "# Ejercicio capturando eventos con el mouse donde se pulse el Botón izquierdo dibuje un circulo, pulsamos el botón derecho dibuja un rectángulo"
   ]
  },
  {
   "cell_type": "code",
   "execution_count": 1,
   "metadata": {},
   "outputs": [],
   "source": [
    "\n",
    "import numpy as np\n",
    "import cv2 as cv\n",
    "import math\n",
    "\n",
    "def drawCircle(event,x,y,flag, param):\n",
    "    if(event == cv.EVENT_LBUTTONDOWN):\n",
    "        cv.circle(img,(x,y),25,(255,0,0),2)\n",
    "    elif(event == cv.EVENT_RBUTTONDOWN):\n",
    "            cv.rectangle(img,(x,y),(x+25,y+25),(0,255,0),2)\n",
    "img = np.zeros((520,640,3),np.uint8)\n",
    "cv.namedWindow('Circulo')\n",
    "cv.setMouseCallback('Circulo',drawCircle)\n",
    "            \n",
    "while(True):\n",
    "    cv.imshow('Circulo',img)\n",
    "    if(cv.waitKey(1)& 0xFF==ord('q')):\n",
    "        break\n",
    "cv.destroyAllWindows()"
   ]
  },
  {
   "cell_type": "code",
   "execution_count": null,
   "metadata": {},
   "outputs": [],
   "source": []
  }
 ],
 "metadata": {
  "kernelspec": {
   "display_name": "Python 3",
   "language": "python",
   "name": "python3"
  },
  "language_info": {
   "codemirror_mode": {
    "name": "ipython",
    "version": 3
   },
   "file_extension": ".py",
   "mimetype": "text/x-python",
   "name": "python",
   "nbconvert_exporter": "python",
   "pygments_lexer": "ipython3",
   "version": "3.8.5"
  }
 },
 "nbformat": 4,
 "nbformat_minor": 4
}
